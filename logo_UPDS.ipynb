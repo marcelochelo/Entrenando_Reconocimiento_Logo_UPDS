{
  "nbformat": 4,
  "nbformat_minor": 0,
  "metadata": {
    "colab": {
      "name": "logo_UPDS.ipynb",
      "provenance": []
    },
    "kernelspec": {
      "name": "python3",
      "display_name": "Python 3"
    }
  },
  "cells": [
    {
      "cell_type": "code",
      "metadata": {
        "id": "-M2HcZqo3Gdy",
        "colab_type": "code",
        "outputId": "d40db4ce-9efd-463e-e80b-34eb1d87f812",
        "colab": {
          "resources": {
            "http://localhost:8080/nbextensions/google.colab/files.js": {
              "data": "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",
              "ok": true,
              "headers": [
                [
                  "content-type",
                  "application/javascript"
                ]
              ],
              "status": 200,
              "status_text": ""
            }
          },
          "base_uri": "https://localhost:8080/",
          "height": 74
        }
      },
      "source": [
        "#para cargar archivos .zip\n",
        "from google.colab import files\n",
        "uploaded = files.upload()"
      ],
      "execution_count": 0,
      "outputs": [
        {
          "output_type": "display_data",
          "data": {
            "text/html": [
              "\n",
              "     <input type=\"file\" id=\"files-e57004a8-6e1c-4f75-8b97-59660829b9e0\" name=\"files[]\" multiple disabled />\n",
              "     <output id=\"result-e57004a8-6e1c-4f75-8b97-59660829b9e0\">\n",
              "      Upload widget is only available when the cell has been executed in the\n",
              "      current browser session. Please rerun this cell to enable.\n",
              "      </output>\n",
              "      <script src=\"/nbextensions/google.colab/files.js\"></script> "
            ],
            "text/plain": [
              "<IPython.core.display.HTML object>"
            ]
          },
          "metadata": {
            "tags": []
          }
        },
        {
          "output_type": "stream",
          "text": [
            "Saving logo.zip to logo.zip\n"
          ],
          "name": "stdout"
        }
      ]
    },
    {
      "cell_type": "code",
      "metadata": {
        "id": "u3H1kltk3Z_f",
        "colab_type": "code",
        "colab": {}
      },
      "source": [
        "#para descomprimir el archivo\n",
        "import zipfile\n",
        "import io\n",
        "data = zipfile.ZipFile(io.BytesIO(uploaded['logo.zip']),'r')\n",
        "data.extractall()"
      ],
      "execution_count": 0,
      "outputs": []
    },
    {
      "cell_type": "code",
      "metadata": {
        "id": "1Z6NPS724ImF",
        "colab_type": "code",
        "colab": {}
      },
      "source": [
        "#librerias\n",
        "import cv2\n",
        "import numpy as np\n",
        "import os\n",
        "import matplotlib.pyplot as plt"
      ],
      "execution_count": 0,
      "outputs": []
    },
    {
      "cell_type": "code",
      "metadata": {
        "id": "O5bNUg-24OnJ",
        "colab_type": "code",
        "colab": {}
      },
      "source": [
        "#carpeta de positivos\n",
        "posupds_folder_path =\"/content/posupds\"\n",
        "posupds=[]\n",
        "img_size=150"
      ],
      "execution_count": 0,
      "outputs": []
    },
    {
      "cell_type": "code",
      "metadata": {
        "id": "J-OdvIa34W7w",
        "colab_type": "code",
        "colab": {}
      },
      "source": [
        "#devuelve la carpeta especificada contiene un nombre de carpeta\n",
        "for img in os.listdir(posupds_folder_path):\n",
        "  img = cv2.imread(os.path.join(posupds_folder_path,img))\n",
        "  #img_gray= cv2.cvtColor(img,cv2.COLOR_BGR2GRAY)\n",
        "  img_resize = cv2.resize(img,(img_size,img_size))\n",
        "  posupds.append(img_resize)"
      ],
      "execution_count": 0,
      "outputs": []
    },
    {
      "cell_type": "code",
      "metadata": {
        "id": "GTbYrPSR4ZkP",
        "colab_type": "code",
        "outputId": "1dc52568-abe2-49aa-ac07-691b1decd4d4",
        "colab": {
          "base_uri": "https://localhost:8080/",
          "height": 34
        }
      },
      "source": [
        "posupds = np.array(posupds)\n",
        "print(posupds.shape)"
      ],
      "execution_count": 0,
      "outputs": [
        {
          "output_type": "stream",
          "text": [
            "(41, 150, 150, 3)\n"
          ],
          "name": "stdout"
        }
      ]
    },
    {
      "cell_type": "code",
      "metadata": {
        "id": "2GfRALI-4dTH",
        "colab_type": "code",
        "colab": {}
      },
      "source": [
        "#carpeta de diablada\n",
        "negupds_folder_path =\"/content/negupds\"\n",
        "negupds=[]\n",
        "img_size=150\n",
        "\n",
        "for img in os.listdir(negupds_folder_path):\n",
        "  img = cv2.imread(os.path.join(negupds_folder_path,img))\n",
        "  #img_gray= cv2.cvtColor(img,cv2.COLOR_BGR2GRAY)\n",
        "  img_resize = cv2.resize(img,(img_size,img_size))\n",
        "  negupds.append(img_resize)"
      ],
      "execution_count": 0,
      "outputs": []
    },
    {
      "cell_type": "code",
      "metadata": {
        "id": "nMm_87NW4jE3",
        "colab_type": "code",
        "outputId": "9179dace-ce41-49db-abc8-5bcff6fc5d0e",
        "colab": {
          "base_uri": "https://localhost:8080/",
          "height": 34
        }
      },
      "source": [
        "negupds = np.array(negupds)\n",
        "print(negupds.shape)"
      ],
      "execution_count": 0,
      "outputs": [
        {
          "output_type": "stream",
          "text": [
            "(126, 150, 150, 3)\n"
          ],
          "name": "stdout"
        }
      ]
    },
    {
      "cell_type": "code",
      "metadata": {
        "id": "dvAqzAaL4lOh",
        "colab_type": "code",
        "colab": {}
      },
      "source": [
        ""
      ],
      "execution_count": 0,
      "outputs": []
    },
    {
      "cell_type": "code",
      "metadata": {
        "id": "xOzaW2kD4tsH",
        "colab_type": "code",
        "outputId": "b218bed6-8bfa-4bb3-c9b1-7fd1799882f8",
        "colab": {
          "base_uri": "https://localhost:8080/",
          "height": 34
        }
      },
      "source": [
        "#concatenar \n",
        "#total de las imagens\n",
        "images = np.concatenate([posupds,negupds])\n",
        "print(len(images))"
      ],
      "execution_count": 0,
      "outputs": [
        {
          "output_type": "stream",
          "text": [
            "167\n"
          ],
          "name": "stdout"
        }
      ]
    },
    {
      "cell_type": "code",
      "metadata": {
        "id": "8EwIAabP4xGo",
        "colab_type": "code",
        "outputId": "4da2d06f-adde-40de-c5b9-87b936913329",
        "colab": {
          "base_uri": "https://localhost:8080/",
          "height": 34
        }
      },
      "source": [
        "#converit en arreglo\n",
        "Images = np.array(images)\n",
        "print(Images.shape)"
      ],
      "execution_count": 0,
      "outputs": [
        {
          "output_type": "stream",
          "text": [
            "(167, 150, 150, 3)\n"
          ],
          "name": "stdout"
        }
      ]
    },
    {
      "cell_type": "code",
      "metadata": {
        "id": "XuKImxju40GH",
        "colab_type": "code",
        "outputId": "aaece4e0-0e5a-460a-a38e-3e278265dcd2",
        "colab": {
          "base_uri": "https://localhost:8080/",
          "height": 68
        }
      },
      "source": [
        "#relacionar un numero con imagen caporales con el numero 0.2\n",
        "etiquetas_posupds = np.repeat(0,41)\n",
        "print(len(etiquetas_posupds))\n",
        "print (etiquetas_posupds)"
      ],
      "execution_count": 0,
      "outputs": [
        {
          "output_type": "stream",
          "text": [
            "41\n",
            "[0 0 0 0 0 0 0 0 0 0 0 0 0 0 0 0 0 0 0 0 0 0 0 0 0 0 0 0 0 0 0 0 0 0 0 0 0\n",
            " 0 0 0 0]\n"
          ],
          "name": "stdout"
        }
      ]
    },
    {
      "cell_type": "code",
      "metadata": {
        "id": "8_414j9R46QB",
        "colab_type": "code",
        "outputId": "a05eab67-7701-4e8c-f680-3df1faeff449",
        "colab": {
          "base_uri": "https://localhost:8080/",
          "height": 102
        }
      },
      "source": [
        "#relacionar un numero con imagen tinkuy con el numero 1\n",
        "etiquetas_negupds = np.repeat(1,126)\n",
        "print(len(etiquetas_negupds))\n",
        "print (etiquetas_negupds)"
      ],
      "execution_count": 0,
      "outputs": [
        {
          "output_type": "stream",
          "text": [
            "126\n",
            "[1 1 1 1 1 1 1 1 1 1 1 1 1 1 1 1 1 1 1 1 1 1 1 1 1 1 1 1 1 1 1 1 1 1 1 1 1\n",
            " 1 1 1 1 1 1 1 1 1 1 1 1 1 1 1 1 1 1 1 1 1 1 1 1 1 1 1 1 1 1 1 1 1 1 1 1 1\n",
            " 1 1 1 1 1 1 1 1 1 1 1 1 1 1 1 1 1 1 1 1 1 1 1 1 1 1 1 1 1 1 1 1 1 1 1 1 1\n",
            " 1 1 1 1 1 1 1 1 1 1 1 1 1 1 1]\n"
          ],
          "name": "stdout"
        }
      ]
    },
    {
      "cell_type": "code",
      "metadata": {
        "id": "Hw-zr1eu5Qp1",
        "colab_type": "code",
        "colab": {}
      },
      "source": [
        "#nombre de las posiciones \n",
        "class_name=(['Positivo_UPDS','Negativo_UPDS'])\n",
        "\n"
      ],
      "execution_count": 0,
      "outputs": []
    },
    {
      "cell_type": "code",
      "metadata": {
        "id": "HXdag5Os5TfG",
        "colab_type": "code",
        "outputId": "623d22f1-9e9d-48b7-f2c0-e514bfdafd81",
        "colab": {
          "base_uri": "https://localhost:8080/",
          "height": 136
        }
      },
      "source": [
        "#juntar todas las etiquetas\n",
        "labels = np.concatenate([etiquetas_posupds,etiquetas_negupds])\n",
        "print(len(labels))\n",
        "print(labels)\n",
        "Labels=np.array(labels)\n",
        "print(Labels.shape)"
      ],
      "execution_count": 0,
      "outputs": [
        {
          "output_type": "stream",
          "text": [
            "167\n",
            "[0 0 0 0 0 0 0 0 0 0 0 0 0 0 0 0 0 0 0 0 0 0 0 0 0 0 0 0 0 0 0 0 0 0 0 0 0\n",
            " 0 0 0 0 1 1 1 1 1 1 1 1 1 1 1 1 1 1 1 1 1 1 1 1 1 1 1 1 1 1 1 1 1 1 1 1 1\n",
            " 1 1 1 1 1 1 1 1 1 1 1 1 1 1 1 1 1 1 1 1 1 1 1 1 1 1 1 1 1 1 1 1 1 1 1 1 1\n",
            " 1 1 1 1 1 1 1 1 1 1 1 1 1 1 1 1 1 1 1 1 1 1 1 1 1 1 1 1 1 1 1 1 1 1 1 1 1\n",
            " 1 1 1 1 1 1 1 1 1 1 1 1 1 1 1 1 1 1 1]\n",
            "(167,)\n"
          ],
          "name": "stdout"
        }
      ]
    },
    {
      "cell_type": "code",
      "metadata": {
        "id": "2JqqREzl5Wle",
        "colab_type": "code",
        "outputId": "78c0e4ff-067d-43c2-c061-9fc0c786716d",
        "colab": {
          "base_uri": "https://localhost:8080/",
          "height": 34
        }
      },
      "source": [
        "from __future__ import absolute_import, division, print_function, unicode_literals\n",
        "\n",
        "\n",
        "# TensorFlow and tf.keras\n",
        "import tensorflow as tf\n",
        "from tensorflow import keras\n",
        "from tensorflow.keras import datasets, layers, models\n",
        "import tensorflow.keras.optimizers as Optimizer\n",
        "from keras.models import Sequential\n",
        "from keras.layers import Dense, Dropout, Activation\n",
        "from keras.optimizers import SGD\n",
        "\n",
        "# Helper libraries\n",
        "import numpy as np\n",
        "import matplotlib.pyplot as plt\n",
        "print(tf.__version__)\n"
      ],
      "execution_count": 0,
      "outputs": [
        {
          "output_type": "stream",
          "text": [
            "2.2.0\n"
          ],
          "name": "stdout"
        }
      ]
    },
    {
      "cell_type": "code",
      "metadata": {
        "id": "vf4aJj8b5Ze1",
        "colab_type": "code",
        "outputId": "4e38dbb2-9f7e-493b-e9d2-6e31f78cb29f",
        "colab": {
          "base_uri": "https://localhost:8080/",
          "height": 1000
        }
      },
      "source": [
        "#entrenamiento\n",
        "model = keras.Sequential([\n",
        "    keras.layers.Flatten(input_shape=(150, 150,3)),\n",
        "    keras.layers.Dense(128, activation='relu'),\n",
        "    keras.layers.Dense(128, activation='relu'),\n",
        "    keras.layers.Dense(5, activation='softmax'),\n",
        "    \n",
        "])\n",
        "model.compile(optimizer='adam',\n",
        "              loss='sparse_categorical_crossentropy',\n",
        "              metrics=['accuracy'])\n",
        "model.fit(Images, Labels, epochs=60)\n",
        "trained=model.fit(Images, Labels, epochs=60)\n",
        "\n"
      ],
      "execution_count": 0,
      "outputs": [
        {
          "output_type": "stream",
          "text": [
            "Epoch 1/60\n",
            "6/6 [==============================] - 0s 55ms/step - loss: 3775.2029 - accuracy: 0.4192\n",
            "Epoch 2/60\n",
            "6/6 [==============================] - 0s 55ms/step - loss: 3811.1047 - accuracy: 0.7006\n",
            "Epoch 3/60\n",
            "6/6 [==============================] - 0s 56ms/step - loss: 1420.4017 - accuracy: 0.7126\n",
            "Epoch 4/60\n",
            "6/6 [==============================] - 0s 57ms/step - loss: 3502.9177 - accuracy: 0.5090\n",
            "Epoch 5/60\n",
            "6/6 [==============================] - 0s 56ms/step - loss: 4288.4492 - accuracy: 0.7665\n",
            "Epoch 6/60\n",
            "6/6 [==============================] - 0s 55ms/step - loss: 581.9081 - accuracy: 0.7605\n",
            "Epoch 7/60\n",
            "6/6 [==============================] - 0s 56ms/step - loss: 489.3081 - accuracy: 0.8323\n",
            "Epoch 8/60\n",
            "6/6 [==============================] - 0s 55ms/step - loss: 653.9233 - accuracy: 0.8623\n",
            "Epoch 9/60\n",
            "6/6 [==============================] - 0s 55ms/step - loss: 708.5602 - accuracy: 0.7784\n",
            "Epoch 10/60\n",
            "6/6 [==============================] - 0s 55ms/step - loss: 1392.6509 - accuracy: 0.8204\n",
            "Epoch 11/60\n",
            "6/6 [==============================] - 0s 55ms/step - loss: 930.4088 - accuracy: 0.7545\n",
            "Epoch 12/60\n",
            "6/6 [==============================] - 0s 54ms/step - loss: 495.5162 - accuracy: 0.8263\n",
            "Epoch 13/60\n",
            "6/6 [==============================] - 0s 55ms/step - loss: 803.0049 - accuracy: 0.8623\n",
            "Epoch 14/60\n",
            "6/6 [==============================] - 0s 53ms/step - loss: 217.7031 - accuracy: 0.8922\n",
            "Epoch 15/60\n",
            "6/6 [==============================] - 0s 55ms/step - loss: 333.0510 - accuracy: 0.8323\n",
            "Epoch 16/60\n",
            "6/6 [==============================] - 0s 57ms/step - loss: 500.8281 - accuracy: 0.8563\n",
            "Epoch 17/60\n",
            "6/6 [==============================] - 0s 53ms/step - loss: 288.7650 - accuracy: 0.8862\n",
            "Epoch 18/60\n",
            "6/6 [==============================] - 0s 54ms/step - loss: 133.8457 - accuracy: 0.9281\n",
            "Epoch 19/60\n",
            "6/6 [==============================] - 0s 54ms/step - loss: 90.8493 - accuracy: 0.9581\n",
            "Epoch 20/60\n",
            "6/6 [==============================] - 0s 55ms/step - loss: 116.3193 - accuracy: 0.9461\n",
            "Epoch 21/60\n",
            "6/6 [==============================] - 0s 54ms/step - loss: 77.0220 - accuracy: 0.9401\n",
            "Epoch 22/60\n",
            "6/6 [==============================] - 0s 56ms/step - loss: 113.2871 - accuracy: 0.9461\n",
            "Epoch 23/60\n",
            "6/6 [==============================] - 0s 60ms/step - loss: 128.0980 - accuracy: 0.9042\n",
            "Epoch 24/60\n",
            "6/6 [==============================] - 0s 54ms/step - loss: 119.9697 - accuracy: 0.9162\n",
            "Epoch 25/60\n",
            "6/6 [==============================] - 0s 54ms/step - loss: 79.2648 - accuracy: 0.9281\n",
            "Epoch 26/60\n",
            "6/6 [==============================] - 0s 55ms/step - loss: 66.0275 - accuracy: 0.9521\n",
            "Epoch 27/60\n",
            "6/6 [==============================] - 0s 54ms/step - loss: 24.6239 - accuracy: 0.9880\n",
            "Epoch 28/60\n",
            "6/6 [==============================] - 0s 55ms/step - loss: 22.5709 - accuracy: 0.9880\n",
            "Epoch 29/60\n",
            "6/6 [==============================] - 0s 54ms/step - loss: 88.7606 - accuracy: 0.9341\n",
            "Epoch 30/60\n",
            "6/6 [==============================] - 0s 55ms/step - loss: 372.8781 - accuracy: 0.8263\n",
            "Epoch 31/60\n",
            "6/6 [==============================] - 0s 54ms/step - loss: 442.5503 - accuracy: 0.8144\n",
            "Epoch 32/60\n",
            "6/6 [==============================] - 0s 54ms/step - loss: 249.2090 - accuracy: 0.8743\n",
            "Epoch 33/60\n",
            "6/6 [==============================] - 0s 54ms/step - loss: 131.2128 - accuracy: 0.9162\n",
            "Epoch 34/60\n",
            "6/6 [==============================] - 0s 54ms/step - loss: 62.5483 - accuracy: 0.9401\n",
            "Epoch 35/60\n",
            "6/6 [==============================] - 0s 53ms/step - loss: 85.2531 - accuracy: 0.9461\n",
            "Epoch 36/60\n",
            "6/6 [==============================] - 0s 54ms/step - loss: 351.5604 - accuracy: 0.8263\n",
            "Epoch 37/60\n",
            "6/6 [==============================] - 0s 53ms/step - loss: 104.1666 - accuracy: 0.9162\n",
            "Epoch 38/60\n",
            "6/6 [==============================] - 0s 55ms/step - loss: 51.4138 - accuracy: 0.9461\n",
            "Epoch 39/60\n",
            "6/6 [==============================] - 0s 55ms/step - loss: 32.5074 - accuracy: 0.9701\n",
            "Epoch 40/60\n",
            "6/6 [==============================] - 0s 54ms/step - loss: 44.3031 - accuracy: 0.9701\n",
            "Epoch 41/60\n",
            "6/6 [==============================] - 0s 54ms/step - loss: 12.0828 - accuracy: 0.9880\n",
            "Epoch 42/60\n",
            "6/6 [==============================] - 0s 53ms/step - loss: 32.0191 - accuracy: 0.9641\n",
            "Epoch 43/60\n",
            "6/6 [==============================] - 0s 54ms/step - loss: 9.1615 - accuracy: 0.9760\n",
            "Epoch 44/60\n",
            "6/6 [==============================] - 0s 54ms/step - loss: 90.5751 - accuracy: 0.9162\n",
            "Epoch 45/60\n",
            "6/6 [==============================] - 0s 54ms/step - loss: 2.2188 - accuracy: 0.9880\n",
            "Epoch 46/60\n",
            "6/6 [==============================] - 0s 54ms/step - loss: 2.2367 - accuracy: 0.9940\n",
            "Epoch 47/60\n",
            "6/6 [==============================] - 0s 52ms/step - loss: 9.3117 - accuracy: 0.9760\n",
            "Epoch 48/60\n",
            "6/6 [==============================] - 0s 54ms/step - loss: 462.8226 - accuracy: 0.7844\n",
            "Epoch 49/60\n",
            "6/6 [==============================] - 0s 58ms/step - loss: 4.4436 - accuracy: 0.9820\n",
            "Epoch 50/60\n",
            "6/6 [==============================] - 0s 54ms/step - loss: 4.4424 - accuracy: 0.9940\n",
            "Epoch 51/60\n",
            "6/6 [==============================] - 0s 57ms/step - loss: 6.8736 - accuracy: 0.9820\n",
            "Epoch 52/60\n",
            "6/6 [==============================] - 0s 54ms/step - loss: 23.1740 - accuracy: 0.9760\n",
            "Epoch 53/60\n",
            "6/6 [==============================] - 0s 56ms/step - loss: 1.0400 - accuracy: 0.9880\n",
            "Epoch 54/60\n",
            "6/6 [==============================] - 0s 55ms/step - loss: 11.9471 - accuracy: 0.9820\n",
            "Epoch 55/60\n",
            "6/6 [==============================] - 0s 55ms/step - loss: 4.6535 - accuracy: 0.9880\n",
            "Epoch 56/60\n",
            "6/6 [==============================] - 0s 56ms/step - loss: 3.3368 - accuracy: 0.9820\n",
            "Epoch 57/60\n",
            "6/6 [==============================] - 0s 53ms/step - loss: 2.6781 - accuracy: 0.9880\n",
            "Epoch 58/60\n",
            "6/6 [==============================] - 0s 54ms/step - loss: 0.0000e+00 - accuracy: 1.0000\n",
            "Epoch 59/60\n",
            "6/6 [==============================] - 0s 54ms/step - loss: 0.0000e+00 - accuracy: 1.0000\n",
            "Epoch 60/60\n",
            "6/6 [==============================] - 0s 54ms/step - loss: 3.2655 - accuracy: 0.9940\n",
            "Epoch 1/60\n",
            "6/6 [==============================] - 0s 55ms/step - loss: 5.6579 - accuracy: 0.9880\n",
            "Epoch 2/60\n",
            "6/6 [==============================] - 0s 54ms/step - loss: 10.0996 - accuracy: 0.9820\n",
            "Epoch 3/60\n",
            "6/6 [==============================] - 0s 54ms/step - loss: 18.7572 - accuracy: 0.9760\n",
            "Epoch 4/60\n",
            "6/6 [==============================] - 0s 54ms/step - loss: 143.4535 - accuracy: 0.8922\n",
            "Epoch 5/60\n",
            "6/6 [==============================] - 0s 54ms/step - loss: 62.1567 - accuracy: 0.9042\n",
            "Epoch 6/60\n",
            "6/6 [==============================] - 0s 55ms/step - loss: 94.8493 - accuracy: 0.9401\n",
            "Epoch 7/60\n",
            "6/6 [==============================] - 0s 54ms/step - loss: 49.9862 - accuracy: 0.9401\n",
            "Epoch 8/60\n",
            "6/6 [==============================] - 0s 54ms/step - loss: 80.4055 - accuracy: 0.9162\n",
            "Epoch 9/60\n",
            "6/6 [==============================] - 0s 55ms/step - loss: 110.4438 - accuracy: 0.9162\n",
            "Epoch 10/60\n",
            "6/6 [==============================] - 0s 54ms/step - loss: 137.2068 - accuracy: 0.9222\n",
            "Epoch 11/60\n",
            "6/6 [==============================] - 0s 56ms/step - loss: 17.2022 - accuracy: 0.9820\n",
            "Epoch 12/60\n",
            "6/6 [==============================] - 0s 57ms/step - loss: 56.8154 - accuracy: 0.9401\n",
            "Epoch 13/60\n",
            "6/6 [==============================] - 0s 54ms/step - loss: 184.7354 - accuracy: 0.9341\n",
            "Epoch 14/60\n",
            "6/6 [==============================] - 0s 57ms/step - loss: 88.6300 - accuracy: 0.9281\n",
            "Epoch 15/60\n",
            "6/6 [==============================] - 0s 60ms/step - loss: 263.2145 - accuracy: 0.8683\n",
            "Epoch 16/60\n",
            "6/6 [==============================] - 0s 54ms/step - loss: 298.8366 - accuracy: 0.8802\n",
            "Epoch 17/60\n",
            "6/6 [==============================] - 0s 52ms/step - loss: 92.2675 - accuracy: 0.9461\n",
            "Epoch 18/60\n",
            "6/6 [==============================] - 0s 54ms/step - loss: 39.4710 - accuracy: 0.9521\n",
            "Epoch 19/60\n",
            "6/6 [==============================] - 0s 58ms/step - loss: 24.2078 - accuracy: 0.9760\n",
            "Epoch 20/60\n",
            "6/6 [==============================] - 0s 55ms/step - loss: 1.6589 - accuracy: 0.9940\n",
            "Epoch 21/60\n",
            "6/6 [==============================] - 0s 56ms/step - loss: 3.3588 - accuracy: 0.9880\n",
            "Epoch 22/60\n",
            "6/6 [==============================] - 0s 54ms/step - loss: 0.9132 - accuracy: 0.9940\n",
            "Epoch 23/60\n",
            "6/6 [==============================] - 0s 55ms/step - loss: 0.0000e+00 - accuracy: 1.0000\n",
            "Epoch 24/60\n",
            "6/6 [==============================] - 0s 54ms/step - loss: 0.0000e+00 - accuracy: 1.0000\n",
            "Epoch 25/60\n",
            "6/6 [==============================] - 0s 53ms/step - loss: 0.0000e+00 - accuracy: 1.0000\n",
            "Epoch 26/60\n",
            "6/6 [==============================] - 0s 56ms/step - loss: 0.0000e+00 - accuracy: 1.0000\n",
            "Epoch 27/60\n",
            "6/6 [==============================] - 0s 54ms/step - loss: 0.0000e+00 - accuracy: 1.0000\n",
            "Epoch 28/60\n",
            "6/6 [==============================] - 0s 56ms/step - loss: 0.0000e+00 - accuracy: 1.0000\n",
            "Epoch 29/60\n",
            "6/6 [==============================] - 0s 57ms/step - loss: 0.0000e+00 - accuracy: 1.0000\n",
            "Epoch 30/60\n",
            "6/6 [==============================] - 0s 55ms/step - loss: 0.0000e+00 - accuracy: 1.0000\n",
            "Epoch 31/60\n",
            "6/6 [==============================] - 0s 56ms/step - loss: 0.0000e+00 - accuracy: 1.0000\n",
            "Epoch 32/60\n",
            "6/6 [==============================] - 0s 53ms/step - loss: 0.0000e+00 - accuracy: 1.0000\n",
            "Epoch 33/60\n",
            "6/6 [==============================] - 0s 55ms/step - loss: 0.0000e+00 - accuracy: 1.0000\n",
            "Epoch 34/60\n",
            "6/6 [==============================] - 0s 54ms/step - loss: 0.0000e+00 - accuracy: 1.0000\n",
            "Epoch 35/60\n",
            "6/6 [==============================] - 0s 55ms/step - loss: 0.0000e+00 - accuracy: 1.0000\n",
            "Epoch 36/60\n",
            "6/6 [==============================] - 0s 55ms/step - loss: 0.0000e+00 - accuracy: 1.0000\n",
            "Epoch 37/60\n",
            "6/6 [==============================] - 0s 54ms/step - loss: 0.0000e+00 - accuracy: 1.0000\n",
            "Epoch 38/60\n",
            "6/6 [==============================] - 0s 54ms/step - loss: 0.0000e+00 - accuracy: 1.0000\n",
            "Epoch 39/60\n",
            "6/6 [==============================] - 0s 55ms/step - loss: 0.0000e+00 - accuracy: 1.0000\n",
            "Epoch 40/60\n",
            "6/6 [==============================] - 0s 54ms/step - loss: 0.0000e+00 - accuracy: 1.0000\n",
            "Epoch 41/60\n",
            "6/6 [==============================] - 0s 54ms/step - loss: 0.0000e+00 - accuracy: 1.0000\n",
            "Epoch 42/60\n",
            "6/6 [==============================] - 0s 54ms/step - loss: 0.0000e+00 - accuracy: 1.0000\n",
            "Epoch 43/60\n",
            "6/6 [==============================] - 0s 55ms/step - loss: 0.0000e+00 - accuracy: 1.0000\n",
            "Epoch 44/60\n",
            "6/6 [==============================] - 0s 55ms/step - loss: 0.0000e+00 - accuracy: 1.0000\n",
            "Epoch 45/60\n",
            "6/6 [==============================] - 0s 54ms/step - loss: 0.0000e+00 - accuracy: 1.0000\n",
            "Epoch 46/60\n",
            "6/6 [==============================] - 0s 53ms/step - loss: 0.0000e+00 - accuracy: 1.0000\n",
            "Epoch 47/60\n",
            "6/6 [==============================] - 0s 54ms/step - loss: 0.0000e+00 - accuracy: 1.0000\n",
            "Epoch 48/60\n",
            "6/6 [==============================] - 0s 53ms/step - loss: 0.0000e+00 - accuracy: 1.0000\n",
            "Epoch 49/60\n",
            "6/6 [==============================] - 0s 57ms/step - loss: 0.0000e+00 - accuracy: 1.0000\n",
            "Epoch 50/60\n",
            "6/6 [==============================] - 0s 54ms/step - loss: 0.0000e+00 - accuracy: 1.0000\n",
            "Epoch 51/60\n",
            "6/6 [==============================] - 0s 54ms/step - loss: 0.0000e+00 - accuracy: 1.0000\n",
            "Epoch 52/60\n",
            "6/6 [==============================] - 0s 54ms/step - loss: 0.0000e+00 - accuracy: 1.0000\n",
            "Epoch 53/60\n",
            "6/6 [==============================] - 0s 55ms/step - loss: 0.0000e+00 - accuracy: 1.0000\n",
            "Epoch 54/60\n",
            "6/6 [==============================] - 0s 54ms/step - loss: 0.0000e+00 - accuracy: 1.0000\n",
            "Epoch 55/60\n",
            "6/6 [==============================] - 0s 54ms/step - loss: 0.0000e+00 - accuracy: 1.0000\n",
            "Epoch 56/60\n",
            "6/6 [==============================] - 0s 54ms/step - loss: 0.0000e+00 - accuracy: 1.0000\n",
            "Epoch 57/60\n",
            "6/6 [==============================] - 0s 54ms/step - loss: 0.0000e+00 - accuracy: 1.0000\n",
            "Epoch 58/60\n",
            "6/6 [==============================] - 0s 56ms/step - loss: 0.0000e+00 - accuracy: 1.0000\n",
            "Epoch 59/60\n",
            "6/6 [==============================] - 0s 53ms/step - loss: 0.0000e+00 - accuracy: 1.0000\n",
            "Epoch 60/60\n",
            "6/6 [==============================] - 0s 55ms/step - loss: 0.0000e+00 - accuracy: 1.0000\n"
          ],
          "name": "stdout"
        }
      ]
    },
    {
      "cell_type": "code",
      "metadata": {
        "id": "BNfykKef5i0d",
        "colab_type": "code",
        "outputId": "e8cefbd4-cd54-415f-fd94-fd480ccc6d74",
        "colab": {
          "base_uri": "https://localhost:8080/",
          "height": 51
        }
      },
      "source": [
        "img=Images[4]\n",
        "print(img.shape)\n",
        "img = (np.expand_dims(img,0))\n",
        "print(img.shape)"
      ],
      "execution_count": 0,
      "outputs": [
        {
          "output_type": "stream",
          "text": [
            "(150, 150, 3)\n",
            "(1, 150, 150, 3)\n"
          ],
          "name": "stdout"
        }
      ]
    },
    {
      "cell_type": "code",
      "metadata": {
        "id": "LrF3yjOK5l3X",
        "colab_type": "code",
        "outputId": "2bf4fdc8-2323-4b65-ce9d-346e3517f77a",
        "colab": {
          "base_uri": "https://localhost:8080/",
          "height": 269
        }
      },
      "source": [
        "plt.figure()\n",
        "plt.imshow(Images[4])\n",
        "plt.colorbar()\n",
        "plt.grid(False)\n",
        "plt.show()"
      ],
      "execution_count": 0,
      "outputs": [
        {
          "output_type": "display_data",
          "data": {
            "image/png": "[encoded data removed]",
            "text/plain": [
              "<Figure size 432x288 with 2 Axes>"
            ]
          },
          "metadata": {
            "tags": [],
            "needs_background": "light"
          }
        }
      ]
    },
    {
      "cell_type": "code",
      "metadata": {
        "id": "spfKEjNC5oxl",
        "colab_type": "code",
        "outputId": "d3a5d5b8-20ad-4507-e400-80992b61a611",
        "colab": {
          "base_uri": "https://localhost:8080/",
          "height": 85
        }
      },
      "source": [
        "prediction_single = model.predict(img)\n",
        "print(prediction_single)\n",
        "print(np.sum(prediction_single))\n",
        "print(np.argmax(prediction_single))\n",
        "print(class_name[np.argmax(prediction_single)])"
      ],
      "execution_count": 0,
      "outputs": [
        {
          "output_type": "stream",
          "text": [
            "[[1. 0. 0. 0. 0.]]\n",
            "1.0\n",
            "0\n",
            "Positivo_UPDS\n"
          ],
          "name": "stdout"
        }
      ]
    },
    {
      "cell_type": "code",
      "metadata": {
        "id": "b_5xWyVU8vKt",
        "colab_type": "code",
        "colab": {}
      },
      "source": [
        ""
      ],
      "execution_count": 0,
      "outputs": []
    },
    {
      "cell_type": "code",
      "metadata": {
        "id": "t1NjMeXn72rk",
        "colab_type": "code",
        "outputId": "b7f2a7b8-f553-4ff9-d94a-14a933ed7e9b",
        "colab": {
          "base_uri": "https://localhost:8080/",
          "height": 240
        }
      },
      "source": [
        "img=cv2.imread(\"pelota.jpg\")\n",
        "\n",
        "plt.imshow(img)\n",
        "plt.show()"
      ],
      "execution_count": 0,
      "outputs": [
        {
          "output_type": "display_data",
          "data": {
            "image/png": "[encoded data removed]",
            "text/plain": [
              "<Figure size 432x288 with 1 Axes>"
            ]
          },
          "metadata": {
            "tags": [],
            "needs_background": "light"
          }
        }
      ]
    },
    {
      "cell_type": "code",
      "metadata": {
        "id": "6E3Uz_-n8Ukm",
        "colab_type": "code",
        "outputId": "70c6c414-0a15-494e-aaa1-49aedc2d9d32",
        "colab": {
          "base_uri": "https://localhost:8080/",
          "height": 51
        }
      },
      "source": [
        "img2=img\n",
        "img2=cv2.resize(img2,(img_size,img_size))\n",
        "print(img2.shape)\n",
        "img2=(np.expand_dims(img2,0))\n",
        "print(img2.shape)"
      ],
      "execution_count": 0,
      "outputs": [
        {
          "output_type": "stream",
          "text": [
            "(150, 150, 3)\n",
            "(1, 150, 150, 3)\n"
          ],
          "name": "stdout"
        }
      ]
    },
    {
      "cell_type": "code",
      "metadata": {
        "id": "kkwvnJ5W8wQ1",
        "colab_type": "code",
        "outputId": "d83538e1-127f-45fa-b54f-378654483976",
        "colab": {
          "base_uri": "https://localhost:8080/",
          "height": 85
        }
      },
      "source": [
        "prediction_single = model.predict(img2)\n",
        "print(prediction_single)\n",
        "print(np.sum(prediction_single))\n",
        "print(np.argmax(prediction_single))\n",
        "print(class_name[np.argmax(prediction_single)])"
      ],
      "execution_count": 0,
      "outputs": [
        {
          "output_type": "stream",
          "text": [
            "[[0. 1. 0. 0. 0.]]\n",
            "1.0\n",
            "1\n",
            "Negativo_UPDS\n"
          ],
          "name": "stdout"
        }
      ]
    }
  ]
}